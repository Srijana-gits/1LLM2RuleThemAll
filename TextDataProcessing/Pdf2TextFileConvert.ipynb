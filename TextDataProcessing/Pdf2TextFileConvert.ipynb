{
 "cells": [
  {
   "cell_type": "code",
   "execution_count": 7,
   "metadata": {},
   "outputs": [
    {
     "name": "stdout",
     "output_type": "stream",
     "text": [
      "Current working directory: /Users/srijanashrestha/Desktop/CS_Projects/Projects/1LLM2RuleThemAll\n",
      "PDF text extracted and saved to BookAndDataFiles/book.txt\n",
      "Length of text: 3055720\n",
      "First 500 characters:\n",
      " The Lord  of the Rings  \n",
      "BY \n",
      "J.R.R.  Tolkien  \n",
      "\n",
      "Three Rings for the Elven-kings under the sky, \n",
      "Seven for the Dwarf-lords in their halls of stone, \n",
      "Nine for Mortal Men doomed to die, \n",
      "One for the Dark Lord on his dark throne \n",
      "In the Land of Mordor where the Shadows lie. \n",
      "One Ring to rule them all, One Ring to ﬁnd them, \n",
      "One Ring to bring them all and in the darkness bind them \n",
      "In the Land of Mordor where the Shadows lie. \n",
      "CONTENTS  \n",
      "J.R.R.  TOLKIEN i \n",
      "NOTE  ON THE  TEXT  \n",
      "NOTE  ON THE  5 0TH ANN\n"
     ]
    }
   ],
   "source": [
    "import os\n",
    "import PyPDF2\n",
    "\n",
    "# Set working directory to project root\n",
    "os.chdir(\"/Users/srijanashrestha/Desktop/CS_Projects/Projects/1LLM2RuleThemAll\")\n",
    "print(\"Current working directory:\", os.getcwd())\n",
    "\n",
    "# Ensure folder exists\n",
    "os.makedirs(\"BookAndDataFiles\", exist_ok=True)\n",
    "\n",
    "#  Paths\n",
    "pdf_path = \"/Users/srijanashrestha/Downloads/Tolkien-J.-The-lord-of-the-rings-HarperCollins-ebooks-2010.pdf\"\n",
    "txt_path = \"BookAndDataFiles/book.txt\"\n",
    "\n",
    "# 4Extract text from PDF\n",
    "text = \"\"\n",
    "with open(pdf_path, \"rb\") as f:\n",
    "    reader = PyPDF2.PdfReader(f)\n",
    "    for page in reader.pages:\n",
    "        page_text = page.extract_text()\n",
    "        if page_text:  # skip empty pages\n",
    "            text += page_text + \"\\n\"\n",
    "\n",
    "# Save text to file\n",
    "with open(txt_path, \"w\", encoding=\"utf-8\") as f:\n",
    "    f.write(text)\n",
    "\n",
    "print(f\"PDF text extracted and saved to {txt_path}\")\n",
    "print(\"Length of text:\", len(text))\n",
    "print(\"First 500 characters:\\n\", text[:500])\n"
   ]
  }
 ],
 "metadata": {
  "kernelspec": {
   "display_name": ".venv",
   "language": "python",
   "name": "python3"
  },
  "language_info": {
   "codemirror_mode": {
    "name": "ipython",
    "version": 3
   },
   "file_extension": ".py",
   "mimetype": "text/x-python",
   "name": "python",
   "nbconvert_exporter": "python",
   "pygments_lexer": "ipython3",
   "version": "3.13.1"
  }
 },
 "nbformat": 4,
 "nbformat_minor": 2
}
