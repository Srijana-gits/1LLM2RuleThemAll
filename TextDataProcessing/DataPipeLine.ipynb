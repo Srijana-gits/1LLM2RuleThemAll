{
 "cells": [
  {
   "cell_type": "code",
   "execution_count": 15,
   "metadata": {},
   "outputs": [
    {
     "name": "stdout",
     "output_type": "stream",
     "text": [
      "torch version: 2.8.0\n",
      "tiktoken version: 0.11.0\n"
     ]
    }
   ],
   "source": [
    "from importlib.metadata import version\n",
    "\n",
    "\n",
    "print(\"torch version:\", version(\"torch\"))\n",
    "print(\"tiktoken version:\", version(\"tiktoken\"))\n"
   ]
  },
  {
   "cell_type": "code",
   "execution_count": 16,
   "metadata": {},
   "outputs": [
    {
     "name": "stdout",
     "output_type": "stream",
     "text": [
      "Current working directory: /Users/srijanashrestha/Desktop/CS_Projects/Projects/1LLM2RuleThemAll\n",
      "PDF text extracted and saved to BookAndDataFiles/book.txt\n",
      "Length of text: 3055720\n",
      "First 500 characters:\n",
      " The Lord  of the Rings  \n",
      "BY \n",
      "J.R.R.  Tolkien  \n",
      "\n",
      "Three Rings for the Elven-kings under the sky, \n",
      "Seven for the Dwarf-lords in their halls of stone, \n",
      "Nine for Mortal Men doomed to die, \n",
      "One for the Dark Lord on his dark throne \n",
      "In the Land of Mordor where the Shadows lie. \n",
      "One Ring to rule them all, One Ring to ﬁnd them, \n",
      "One Ring to bring them all and in the darkness bind them \n",
      "In the Land of Mordor where the Shadows lie. \n",
      "CONTENTS  \n",
      "J.R.R.  TOLKIEN i \n",
      "NOTE  ON THE  TEXT  \n",
      "NOTE  ON THE  5 0TH ANN\n"
     ]
    }
   ],
   "source": [
    "import os\n",
    "import PyPDF2\n",
    "\n",
    "# Set working directory to project root\n",
    "os.chdir(\"/Users/srijanashrestha/Desktop/CS_Projects/Projects/1LLM2RuleThemAll\")\n",
    "print(\"Current working directory:\", os.getcwd())\n",
    "\n",
    "# Ensure folder exists\n",
    "os.makedirs(\"BookAndDataFiles\", exist_ok=True)\n",
    "\n",
    "#  Paths\n",
    "pdf_path = \"/Users/srijanashrestha/Downloads/Tolkien-J.-The-lord-of-the-rings-HarperCollins-ebooks-2010.pdf\"\n",
    "txt_path = \"BookAndDataFiles/book.txt\"\n",
    "\n",
    "# 4Extract text from PDF\n",
    "text = \"\"\n",
    "with open(pdf_path, \"rb\") as f:\n",
    "    reader = PyPDF2.PdfReader(f)\n",
    "    for page in reader.pages:\n",
    "        page_text = page.extract_text()\n",
    "        if page_text:  # skip empty pages\n",
    "            text += page_text + \"\\n\"\n",
    "\n",
    "# Save text to file\n",
    "with open(txt_path, \"w\", encoding=\"utf-8\") as f:\n",
    "    f.write(text)\n",
    "\n",
    "print(f\"PDF text extracted and saved to {txt_path}\")\n",
    "print(\"Length of text:\", len(text))\n",
    "print(\"First 500 characters:\\n\", text[:500])\n"
   ]
  },
  {
   "cell_type": "code",
   "execution_count": 17,
   "metadata": {},
   "outputs": [
    {
     "name": "stdout",
     "output_type": "stream",
     "text": [
      "['The', 'Lord', 'of', 'the', 'Rings', 'BY', 'J', '.', 'R', '.', 'R', '.', 'Tolkien', 'Three', 'Rings', 'for', 'the', 'Elven-kings', 'under', 'the', 'sky', ',', 'Seven', 'for', 'the', 'Dwarf-lords', 'in', 'their', 'halls', 'of']\n"
     ]
    }
   ],
   "source": [
    "preprocessed = re.split(r'([,.:;?_!\"()\\']|--|\\s)', text)\n",
    "preprocessed = [item.strip() for item in preprocessed if item.strip()]\n",
    "print(preprocessed[:30])"
   ]
  },
  {
   "cell_type": "code",
   "execution_count": 14,
   "metadata": {},
   "outputs": [
    {
     "name": "stdout",
     "output_type": "stream",
     "text": [
      "671697\n"
     ]
    }
   ],
   "source": [
    "print(len(preprocessed))"
   ]
  },
  {
   "cell_type": "code",
   "execution_count": 18,
   "metadata": {},
   "outputs": [
    {
     "name": "stdout",
     "output_type": "stream",
     "text": [
      "23924\n"
     ]
    }
   ],
   "source": [
    "#Converting tokens into IDs\n",
    "all_words = sorted(set(preprocessed))\n",
    "vocab_size = len(all_words)\n",
    "\n",
    "print(vocab_size)"
   ]
  },
  {
   "cell_type": "code",
   "execution_count": 19,
   "metadata": {},
   "outputs": [
    {
     "name": "stdout",
     "output_type": "stream",
     "text": [
      "('!', 0)\n",
      "('&', 1)\n",
      "('(', 2)\n",
      "(')', 3)\n",
      "('*', 4)\n",
      "('+', 5)\n",
      "(',', 6)\n",
      "('-', 7)\n",
      "('-B', 8)\n",
      "('-D', 9)\n",
      "('-DO', 10)\n",
      "('-R', 11)\n",
      "('-chebin', 12)\n",
      "('.', 13)\n",
      "('//www', 14)\n",
      "('0TH', 15)\n",
      "('1', 16)\n",
      "('10', 17)\n",
      "('100', 18)\n",
      "('1000', 19)\n",
      "('1001', 20)\n",
      "('1001–11', 21)\n",
      "('1001–4', 22)\n",
      "('1002', 23)\n",
      "('10022', 24)\n",
      "('1003', 25)\n",
      "('1004', 26)\n",
      "('1004–18', 27)\n",
      "('1005', 28)\n",
      "('1006', 29)\n",
      "('1006–16', 30)\n",
      "('1007', 31)\n",
      "('1008', 32)\n",
      "('1009', 33)\n",
      "('1009–17', 34)\n",
      "('100–10', 35)\n",
      "('100–2', 36)\n",
      "('100–6', 37)\n",
      "('101', 38)\n",
      "('1010', 39)\n",
      "('1011', 40)\n",
      "('1012', 41)\n",
      "('1013', 42)\n",
      "('1014', 43)\n",
      "('1014–16', 44)\n",
      "('1015', 45)\n",
      "('1015–16', 46)\n",
      "('1016', 47)\n",
      "('1016–17', 48)\n",
      "('1016–21', 49)\n",
      "('1017', 50)\n"
     ]
    }
   ],
   "source": [
    "vocab = {token:integer for integer,token in enumerate(all_words)}\n",
    "for i, item in enumerate(vocab.items()):\n",
    "    print(item)\n",
    "    if i >= 50:\n",
    "        break"
   ]
  },
  {
   "cell_type": "code",
   "execution_count": 34,
   "metadata": {},
   "outputs": [],
   "source": [
    "all_tokens = sorted(list(set(preprocessed)))\n",
    "all_tokens.extend([\"<|endoftext|>\", \"<|unk|>\"])\n",
    "\n",
    "vocab = {token:integer for integer,token in enumerate(all_tokens)}"
   ]
  },
  {
   "cell_type": "code",
   "execution_count": 35,
   "metadata": {},
   "outputs": [
    {
     "data": {
      "text/plain": [
       "23926"
      ]
     },
     "execution_count": 35,
     "metadata": {},
     "output_type": "execute_result"
    }
   ],
   "source": [
    "len(vocab.items())"
   ]
  },
  {
   "cell_type": "code",
   "execution_count": 36,
   "metadata": {},
   "outputs": [
    {
     "name": "stdout",
     "output_type": "stream",
     "text": [
      "('ﬂuttering', 23921)\n",
      "('ﬂy', 23922)\n",
      "('ﬂying', 23923)\n",
      "('<|endoftext|>', 23924)\n",
      "('<|unk|>', 23925)\n"
     ]
    }
   ],
   "source": [
    "for i, item in enumerate(list(vocab.items())[-5:]):\n",
    "    print(item)"
   ]
  },
  {
   "cell_type": "code",
   "execution_count": 37,
   "metadata": {},
   "outputs": [],
   "source": [
    "class SimpleTokenizerV2:\n",
    "    def __init__(self, vocab):\n",
    "        self.str_to_int = vocab\n",
    "        self.int_to_str = { i:s for s,i in vocab.items()}\n",
    "    \n",
    "    def encode(self, text):\n",
    "        preprocessed = re.split(r'([,.:;?_!\"()\\']|--|\\s)', text)\n",
    "        preprocessed = [item.strip() for item in preprocessed if item.strip()]\n",
    "        preprocessed = [\n",
    "            item if item in self.str_to_int \n",
    "            else \"<|unk|>\" for item in preprocessed\n",
    "        ]\n",
    "\n",
    "        ids = [self.str_to_int[s] for s in preprocessed]\n",
    "        return ids\n",
    "        \n",
    "    def decode(self, ids):\n",
    "        text = \" \".join([self.int_to_str[i] for i in ids])\n",
    "        # Replace spaces before the specified punctuations\n",
    "        text = re.sub(r'\\s+([,.:;?!\"()\\'])', r'\\1', text)\n",
    "        return text\n",
    "    \n",
    "    "
   ]
  },
  {
   "cell_type": "code",
   "execution_count": 38,
   "metadata": {},
   "outputs": [
    {
     "name": "stdout",
     "output_type": "stream",
     "text": [
      "Hello, do you like tea? <|endoftext|> In the sunlit terraces of the palace.\n"
     ]
    }
   ],
   "source": [
    "tokenizer = SimpleTokenizerV2(vocab)\n",
    "\n",
    "text1 = \"Hello, do you like tea?\"\n",
    "text2 = \"In the sunlit terraces of the palace.\"\n",
    "\n",
    "text = \" <|endoftext|> \".join((text1, text2))\n",
    "\n",
    "print(text)"
   ]
  },
  {
   "cell_type": "code",
   "execution_count": 39,
   "metadata": {},
   "outputs": [
    {
     "data": {
      "text/plain": [
       "[23925,\n",
       " 6,\n",
       " 10585,\n",
       " 22212,\n",
       " 14374,\n",
       " 19982,\n",
       " 2393,\n",
       " 23924,\n",
       " 4605,\n",
       " 20084,\n",
       " 19700,\n",
       " 20047,\n",
       " 15777,\n",
       " 20084,\n",
       " 23925,\n",
       " 13]"
      ]
     },
     "execution_count": 39,
     "metadata": {},
     "output_type": "execute_result"
    }
   ],
   "source": [
    "tokenizer.encode(text)"
   ]
  }
 ],
 "metadata": {
  "kernelspec": {
   "display_name": ".venv",
   "language": "python",
   "name": "python3"
  },
  "language_info": {
   "codemirror_mode": {
    "name": "ipython",
    "version": 3
   },
   "file_extension": ".py",
   "mimetype": "text/x-python",
   "name": "python",
   "nbconvert_exporter": "python",
   "pygments_lexer": "ipython3",
   "version": "3.13.1"
  }
 },
 "nbformat": 4,
 "nbformat_minor": 2
}
